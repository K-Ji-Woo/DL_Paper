{
  "cells": [
    {
      "cell_type": "markdown",
      "metadata": {
        "id": "rUj6H7h0rQd3"
      },
      "source": [
        "# VGG16을 사용하여 아이돌 이미지 분류\n",
        "- 이미지는 Kaggle에서 다운로드 가능(https://www.kaggle.com/datasets/vkehfdl1/kidf-kpop-idol-dataset-female?resource=download&select=kid_f_train.csv)\n"
      ]
    },
    {
      "cell_type": "code",
      "execution_count": 1,
      "metadata": {
        "id": "eoO6haA9rAfQ"
      },
      "outputs": [],
      "source": [
        "import numpy as np\n",
        "import pandas as pd\n",
        "import os\n",
        "import warnings\n",
        "warnings.filterwarnings('ignore')\n",
        "\n",
        "from PIL import Image\n",
        "from tqdm import tqdm\n",
        "\n",
        "import torch\n",
        "import torch.nn as nn\n",
        "import torch.optim as optim\n",
        "from torchvision import transforms\n",
        "from torch.utils.data import DataLoader\n",
        "\n",
        "from sklearn.preprocessing import LabelEncoder"
      ]
    },
    {
      "cell_type": "code",
      "execution_count": 3,
      "metadata": {
        "id": "4zzWNNOxo4he"
      },
      "outputs": [],
      "source": [
        "url = './dataset'\n",
        "\n",
        "csv_url_train = url + '/kid_f_train.csv'\n",
        "csv_url_test = url + '/kid_f_test.csv'\n",
        "\n",
        "\n",
        "train_labels = pd.read_csv(csv_url_train)\n",
        "test_labels = pd.read_csv(csv_url_test)"
      ]
    },
    {
      "cell_type": "code",
      "execution_count": 4,
      "metadata": {},
      "outputs": [
        {
          "data": {
            "text/html": [
              "<div>\n",
              "<style scoped>\n",
              "    .dataframe tbody tr th:only-of-type {\n",
              "        vertical-align: middle;\n",
              "    }\n",
              "\n",
              "    .dataframe tbody tr th {\n",
              "        vertical-align: top;\n",
              "    }\n",
              "\n",
              "    .dataframe thead th {\n",
              "        text-align: right;\n",
              "    }\n",
              "</style>\n",
              "<table border=\"1\" class=\"dataframe\">\n",
              "  <thead>\n",
              "    <tr style=\"text-align: right;\">\n",
              "      <th></th>\n",
              "      <th>file_name</th>\n",
              "      <th>name</th>\n",
              "    </tr>\n",
              "  </thead>\n",
              "  <tbody>\n",
              "    <tr>\n",
              "      <th>0</th>\n",
              "      <td>5.jpg</td>\n",
              "      <td>yujin</td>\n",
              "    </tr>\n",
              "    <tr>\n",
              "      <th>1</th>\n",
              "      <td>8.jpg</td>\n",
              "      <td>yujin</td>\n",
              "    </tr>\n",
              "    <tr>\n",
              "      <th>2</th>\n",
              "      <td>17.jpg</td>\n",
              "      <td>yujin</td>\n",
              "    </tr>\n",
              "  </tbody>\n",
              "</table>\n",
              "</div>"
            ],
            "text/plain": [
              "  file_name   name\n",
              "0     5.jpg  yujin\n",
              "1     8.jpg  yujin\n",
              "2    17.jpg  yujin"
            ]
          },
          "execution_count": 4,
          "metadata": {},
          "output_type": "execute_result"
        }
      ],
      "source": [
        "train_labels.head(3)"
      ]
    },
    {
      "cell_type": "code",
      "execution_count": 5,
      "metadata": {},
      "outputs": [
        {
          "data": {
            "text/html": [
              "<div>\n",
              "<style scoped>\n",
              "    .dataframe tbody tr th:only-of-type {\n",
              "        vertical-align: middle;\n",
              "    }\n",
              "\n",
              "    .dataframe tbody tr th {\n",
              "        vertical-align: top;\n",
              "    }\n",
              "\n",
              "    .dataframe thead th {\n",
              "        text-align: right;\n",
              "    }\n",
              "</style>\n",
              "<table border=\"1\" class=\"dataframe\">\n",
              "  <thead>\n",
              "    <tr style=\"text-align: right;\">\n",
              "      <th></th>\n",
              "      <th>file_name</th>\n",
              "      <th>name</th>\n",
              "    </tr>\n",
              "  </thead>\n",
              "  <tbody>\n",
              "    <tr>\n",
              "      <th>0</th>\n",
              "      <td>45.jpg</td>\n",
              "      <td>yujin</td>\n",
              "    </tr>\n",
              "    <tr>\n",
              "      <th>1</th>\n",
              "      <td>67.jpg</td>\n",
              "      <td>iu</td>\n",
              "    </tr>\n",
              "    <tr>\n",
              "      <th>2</th>\n",
              "      <td>85.jpg</td>\n",
              "      <td>winter</td>\n",
              "    </tr>\n",
              "  </tbody>\n",
              "</table>\n",
              "</div>"
            ],
            "text/plain": [
              "  file_name    name\n",
              "0    45.jpg   yujin\n",
              "1    67.jpg      iu\n",
              "2    85.jpg  winter"
            ]
          },
          "execution_count": 5,
          "metadata": {},
          "output_type": "execute_result"
        }
      ],
      "source": [
        "test_labels.head(3)"
      ]
    },
    {
      "cell_type": "code",
      "execution_count": 6,
      "metadata": {
        "colab": {
          "base_uri": "https://localhost:8080/"
        },
        "id": "mcyt5Wq-rxBn",
        "outputId": "3a6e0426-77a6-479d-c718-5f60eb72cca6"
      },
      "outputs": [
        {
          "name": "stdout",
          "output_type": "stream",
          "text": [
            "훈련 데이터셋 shape >  (5591, 2)\n",
            "훈련 데이터셋 비율 top 5\n",
            "name\n",
            "lisa        22.929708\n",
            "rose        22.267931\n",
            "jisoo       18.297263\n",
            "jennie       7.404758\n",
            "kimminju     4.668217\n",
            "dtype: float64\n",
            "\n",
            "테스트 데이터셋 shape >  (300, 2)\n",
            "테스트 데이터셋 비율 top 5\n",
            "name\n",
            "jisoo     24.000000\n",
            "iu        21.333333\n",
            "rose      14.000000\n",
            "lisa      13.333333\n",
            "jennie     5.000000\n",
            "dtype: float64\n"
          ]
        }
      ],
      "source": [
        "# 라벨값 비율 확인\n",
        "print('훈련 데이터셋 shape > ', train_labels.shape)\n",
        "print('훈련 데이터셋 비율 top 5')\n",
        "print((train_labels.groupby('name').size() / train_labels.shape[0] * 100).sort_values(ascending=False).head(5))\n",
        "\n",
        "print('\\n테스트 데이터셋 shape > ', test_labels.shape)\n",
        "print('테스트 데이터셋 비율 top 5')\n",
        "print((test_labels.groupby('name').size() / test_labels.shape[0] * 100).sort_values(ascending=False).head(5))"
      ]
    },
    {
      "cell_type": "markdown",
      "metadata": {
        "id": "Jkl4g1hAr2w4"
      },
      "source": [
        "# 데이터 전처리\n",
        "- 훈련 데이터셋 중 lisa, rose, jisoo의 비율이 절반 이상이 넘음 => 따라서 세 명은 훈련 데이터, 학습 데이터에서 삭제\n",
        "- 테스트 데이터셋에는 iu, chaeyoungdl 있지만, 테스트 데이터셋에는 없음 => 두 명도 삭제\n",
        "- 텐서화 \n",
        " - 세명의 데이터를 삭제한 데이프레임을 기준으로 이미지 불러와서 텐서화\n",
        " - 이미지파일만 있는 것이 아니라 \n",
        " Thumbs.db' 파일도 있으므로 텐서로 변활할 때 에러 발생이 예상되므로 예외처리 하기\n"
      ]
    },
    {
      "cell_type": "code",
      "execution_count": 8,
      "metadata": {
        "id": "KKfMaZbnLn2m"
      },
      "outputs": [],
      "source": [
        "# 리사, 로제, 지수 제거\n",
        "drop_name = ['lisa', 'rose', 'jisoo', 'iu', 'chaeyoung']\n",
        "\n",
        "train_drop_index = train_labels[train_labels['name'].isin(drop_name)].index\n",
        "test_drop_index = test_labels[test_labels['name'].isin(drop_name)].index\n",
        "\n",
        "train_labels = train_labels.drop(train_drop_index)\n",
        "test_labels = test_labels.drop(test_drop_index)"
      ]
    },
    {
      "cell_type": "code",
      "execution_count": 10,
      "metadata": {},
      "outputs": [],
      "source": [
        "# 라벨 인코딩\n",
        "encoder = LabelEncoder()\n",
        "encoder.fit(train_labels['name'])\n",
        "\n",
        "train_encoded = encoder.transform(train_labels['name'])\n",
        "test_encoded = encoder.transform(test_labels['name'])\n",
        "\n",
        "train_labels['name'] = train_encoded\n",
        "test_labels['name'] = test_encoded"
      ]
    },
    {
      "cell_type": "code",
      "execution_count": 12,
      "metadata": {
        "colab": {
          "base_uri": "https://localhost:8080/"
        },
        "id": "BYyZOQBgZV7p",
        "outputId": "bfd8fec1-66fd-46b3-9b4d-9186bb2a3a8f"
      },
      "outputs": [
        {
          "name": "stdout",
          "output_type": "stream",
          "text": [
            "###### 세 명 삭제 후 ######\n",
            "train_labels 데이터 개수 :  2041\n",
            "train_labels 클래스 개수 :  52\n",
            "------------------------------\n",
            "test_labels 데이터 개수 :  81\n",
            "test_labels클래스 개수 :  20\n"
          ]
        }
      ],
      "source": [
        "print(\"###### 세 명 삭제 후 ######\")\n",
        "print(\"train_labels 데이터 개수 : \", len(train_labels))\n",
        "print(\"train_labels 클래스 개수 : \", len(train_labels['name'].unique()))\n",
        "print('----------' * 3)\n",
        "print(\"test_labels 데이터 개수 : \", len(test_labels))\n",
        "print(\"test_labels클래스 개수 : \", len(test_labels['name'].unique()))"
      ]
    },
    {
      "cell_type": "code",
      "execution_count": 39,
      "metadata": {
        "id": "FGNBFyDzXQ9a"
      },
      "outputs": [],
      "source": [
        "def image_to_tensor(df, dir_url):\n",
        "    result_list = []\n",
        "\n",
        "    for i in tqdm(range(df.shape[0])):\n",
        "        try:\n",
        "            file_name = df['file_name'].iloc[i] # 파일 이름 Ex)100.jpg\n",
        "            label = df['name'].iloc[i] # 연예인 이름\n",
        "\n",
        "            # 이미지 오픈 및 텐서화\n",
        "            file_url = dir_url + '/' + file_name\n",
        "            img = Image.open(file_url)\n",
        "            tf = transforms.Compose(\n",
        "                [transforms.ToTensor(),\n",
        "                transforms.Resize(224),\n",
        "                transforms.Normalize((0.5, 0.5, 0.5), (0.5, 0.5, 0.5))]\n",
        "            )\n",
        "            \n",
        "            tensor_img = tf(img)\n",
        "            # 튜플 형태로 저장\n",
        "            result_list.append((tensor_img, label))\n",
        "            \n",
        "        except Exception as err:\n",
        "            print(\"ERROR CODE > \", err)\n",
        "            print(\"에러 난 파일 명 > \", file_name)\n",
        "            \n",
        "    return result_list"
      ]
    },
    {
      "cell_type": "code",
      "execution_count": 40,
      "metadata": {
        "colab": {
          "base_uri": "https://localhost:8080/",
          "height": 396
        },
        "id": "hZBN6UdAX1Pj",
        "outputId": "6b46b8fe-ae04-41aa-cc13-029eef987a7c"
      },
      "outputs": [
        {
          "name": "stderr",
          "output_type": "stream",
          "text": [
            "100%|██████████| 2041/2041 [00:21<00:00, 97.11it/s] \n"
          ]
        },
        {
          "name": "stdout",
          "output_type": "stream",
          "text": [
            "****************************************************************************************************\n"
          ]
        },
        {
          "name": "stderr",
          "output_type": "stream",
          "text": [
            " 68%|██████▊   | 55/81 [00:00<00:00, 132.36it/s]"
          ]
        },
        {
          "name": "stdout",
          "output_type": "stream",
          "text": [
            "ERROR CODE >  [Errno 2] No such file or directory: 'C:/Users/rlawl/바탕 화면/Git repositories/DL_Paper/2. VGG/dataset/test_final_with_degrad/test/1792 .jpg'\n",
            "에러 난 파일 명 >  1792 .jpg\n"
          ]
        },
        {
          "name": "stderr",
          "output_type": "stream",
          "text": [
            "100%|██████████| 81/81 [00:00<00:00, 127.67it/s]\n"
          ]
        }
      ],
      "source": [
        "train_dir_url = 'C:/Users/rlawl/바탕 화면/Git repositories/DL_Paper/2. VGG/dataset/HQ_512x512/HQ_512x512' \n",
        "test_dir_url = 'C:/Users/rlawl/바탕 화면/Git repositories/DL_Paper/2. VGG/dataset/test_final_with_degrad/test'\n",
        "\n",
        "train_dataset = image_to_tensor(train_labels, train_dir_url)\n",
        "print('*'*100)\n",
        "test_dataset = image_to_tensor(test_labels, test_dir_url)"
      ]
    },
    {
      "cell_type": "code",
      "execution_count": 41,
      "metadata": {
        "id": "5xP3ZHfi5QWc"
      },
      "outputs": [
        {
          "name": "stdout",
          "output_type": "stream",
          "text": [
            "train_dataset 데이터 개수 :  2041\n",
            "train_dataset 라벨 개수 52\n",
            "------------------------------\n",
            "test_dataset 데이터 개수 :  80\n",
            "test_dataset 라벨 개수 20\n"
          ]
        }
      ],
      "source": [
        "print(\"train_dataset 데이터 개수 : \", len(train_dataset))\n",
        "\n",
        "lst = []\n",
        "for i in range(len(train_dataset)):\n",
        "    lst.append(train_dataset[i][1])\n",
        "s_lst = pd.Series(lst)\n",
        "print('train_dataset 라벨 개수', len(s_lst.unique()))\n",
        "\n",
        "print('----------' * 3)\n",
        "\n",
        "print(\"test_dataset 데이터 개수 : \", len(test_dataset))\n",
        "\n",
        "lst = []\n",
        "for i in range(len(test_dataset)):\n",
        "    lst.append(test_dataset[i][1])\n",
        "s_lst = pd.Series(lst)\n",
        "print('test_dataset 라벨 개수', len(s_lst.unique()))"
      ]
    },
    {
      "cell_type": "code",
      "execution_count": 43,
      "metadata": {},
      "outputs": [
        {
          "data": {
            "text/plain": [
              "torch.Size([3, 224, 224])"
            ]
          },
          "execution_count": 43,
          "metadata": {},
          "output_type": "execute_result"
        }
      ],
      "source": [
        "train_dataset[0][0].shape"
      ]
    },
    {
      "cell_type": "markdown",
      "metadata": {
        "id": "_zhRXRwKJCdW"
      },
      "source": [
        "# 모델링"
      ]
    },
    {
      "cell_type": "code",
      "execution_count": 44,
      "metadata": {
        "id": "qLt8WnMLcnLs"
      },
      "outputs": [],
      "source": [
        "device = torch.device('cuda:0' if torch.cuda.is_available() else 'cpu')"
      ]
    },
    {
      "cell_type": "code",
      "execution_count": 45,
      "metadata": {
        "id": "L6N6OKWMJCaG"
      },
      "outputs": [],
      "source": [
        "# DataLoader 만들기\n",
        "batch_size = 32\n",
        "train_loader = DataLoader(dataset=train_dataset, batch_size=batch_size, shuffle=True)\n",
        "test_laoder = DataLoader(dataset=test_dataset, batch_size=batch_size)"
      ]
    },
    {
      "cell_type": "code",
      "execution_count": 46,
      "metadata": {},
      "outputs": [],
      "source": [
        "# VGG 모델은 여러가지 타입이 있으므로 타입에 맞춰 모델 생성하기 위해 layer를 거친 후 출력 kernel의 개수 미리 지정(M은 pooling layer)\n",
        "cfg = {\n",
        "    'A': [64, 'M', 128, 'M', 256, 256, 'M', 512, 512, 'M', 512, 512, 'M'],\n",
        "    'B': [64, 64, 'M', 128, 128, 'M', 256, 256, 'M', 512, 512, 'M', 512, 512, 'M'],\n",
        "    'D': [64, 64, 'M', 128, 128, 'M', 256, 256, 256, 'M', 512, 512, 512, 'M', 512, 512, 512, 'M'],\n",
        "    'E': [64, 64, 'M', 128, 128, 'M', 256, 256, 256, 256, 'M', 512, 512, 512, 512, 'M', 512, 512, 512, 512, 'M'],\n",
        "}\n",
        "\n",
        "# A : VGG-11\n",
        "# B : VGG-13\n",
        "# D : VGG-16\n",
        "# E : VGG-19\n",
        "\n",
        "def make_layer(config): # 위에서 정의한 타입별로 모델 생성\n",
        "    layers = []\n",
        "    in_planes = 3 # input 개수\n",
        "    for value in config:\n",
        "        if value == \"M\": # Pooling layer일 때 \n",
        "            layers.append(nn.MaxPool2d(kernel_size=2, stride=2))\n",
        "        else: # Conv  layer일 때\n",
        "            layers.append(nn.Conv2d(in_planes, value, kernel_size=3, padding=1))\n",
        "            layers.append(nn.ReLU())\n",
        "            in_planes = value\n",
        "    return nn.Sequential(*layers)"
      ]
    },
    {
      "cell_type": "code",
      "execution_count": 47,
      "metadata": {},
      "outputs": [],
      "source": [
        "class VGG(nn.Module):\n",
        "    def __init__(self, config, num_classes=1000, cifar=False):\n",
        "        super(VGG, self).__init__()\n",
        "        self.features = make_layer(config)\n",
        "        \n",
        "        # ImageNet\n",
        "        self.classifier = nn.Sequential(\n",
        "            nn.Linear(512 * 7 * 7, 4096),\n",
        "            nn.ReLU(),\n",
        "            nn.Dropout(0.5),\n",
        "            nn.Linear(4096, 4096),\n",
        "            nn.ReLU(),\n",
        "            nn.Dropout(0.5),\n",
        "            nn.Linear(4096, num_classes)  \n",
        "        )\n",
        "        # CIFAR-10\n",
        "        if cifar:\n",
        "            self.classifier = nn.Sequential(\n",
        "                nn.Dropout(0.5),\n",
        "                nn.Linear(512, 512),\n",
        "                nn.ReLU(True),\n",
        "                nn.Dropout(0.5),\n",
        "                nn.Linear(512, 512),\n",
        "                nn.ReLU(True),\n",
        "                nn.Linear(512, 10)  \n",
        "            ) \n",
        "        \n",
        "    def forward(self, x):\n",
        "        out = self.features(x)\n",
        "        out = torch.flatten(out,1)\n",
        "        out = self.classifier(out)\n",
        "        return out"
      ]
    },
    {
      "cell_type": "code",
      "execution_count": 48,
      "metadata": {
        "id": "9ojzRlUaJCSo"
      },
      "outputs": [],
      "source": [
        "# 지정한 VGG 타입 별 모델을 생성하는 함수 만들기\n",
        "def VGG11(cifar=False):\n",
        "    return VGG(config = cfg['A'], cifar = cifar)\n",
        "\n",
        "def VGG13(cifar=False):\n",
        "    return VGG(config = cfg['B'], cifar = cifar)\n",
        "\n",
        "def VGG16(cifar=False):\n",
        "    return VGG(config = cfg['D'], cifar = cifar)\n",
        "\n",
        "def VGG19(cifar=False):\n",
        "    return VGG(config = cfg['E'], cifar = cifar)"
      ]
    },
    {
      "cell_type": "code",
      "execution_count": 49,
      "metadata": {
        "id": "Of4rtZbWJCPM"
      },
      "outputs": [],
      "source": [
        "model = VGG16()"
      ]
    },
    {
      "cell_type": "code",
      "execution_count": 50,
      "metadata": {
        "id": "IASuJLl7JB0o"
      },
      "outputs": [
        {
          "name": "stdout",
          "output_type": "stream",
          "text": [
            "----------------------------------------------------------------\n",
            "        Layer (type)               Output Shape         Param #\n",
            "================================================================\n",
            "            Conv2d-1         [32, 64, 224, 224]           1,792\n",
            "              ReLU-2         [32, 64, 224, 224]               0\n",
            "            Conv2d-3         [32, 64, 224, 224]          36,928\n",
            "              ReLU-4         [32, 64, 224, 224]               0\n",
            "         MaxPool2d-5         [32, 64, 112, 112]               0\n",
            "            Conv2d-6        [32, 128, 112, 112]          73,856\n",
            "              ReLU-7        [32, 128, 112, 112]               0\n",
            "            Conv2d-8        [32, 128, 112, 112]         147,584\n",
            "              ReLU-9        [32, 128, 112, 112]               0\n",
            "        MaxPool2d-10          [32, 128, 56, 56]               0\n",
            "           Conv2d-11          [32, 256, 56, 56]         295,168\n",
            "             ReLU-12          [32, 256, 56, 56]               0\n",
            "           Conv2d-13          [32, 256, 56, 56]         590,080\n",
            "             ReLU-14          [32, 256, 56, 56]               0\n",
            "           Conv2d-15          [32, 256, 56, 56]         590,080\n",
            "             ReLU-16          [32, 256, 56, 56]               0\n",
            "        MaxPool2d-17          [32, 256, 28, 28]               0\n",
            "           Conv2d-18          [32, 512, 28, 28]       1,180,160\n",
            "             ReLU-19          [32, 512, 28, 28]               0\n",
            "           Conv2d-20          [32, 512, 28, 28]       2,359,808\n",
            "             ReLU-21          [32, 512, 28, 28]               0\n",
            "           Conv2d-22          [32, 512, 28, 28]       2,359,808\n",
            "             ReLU-23          [32, 512, 28, 28]               0\n",
            "        MaxPool2d-24          [32, 512, 14, 14]               0\n",
            "           Conv2d-25          [32, 512, 14, 14]       2,359,808\n",
            "             ReLU-26          [32, 512, 14, 14]               0\n",
            "           Conv2d-27          [32, 512, 14, 14]       2,359,808\n",
            "             ReLU-28          [32, 512, 14, 14]               0\n",
            "           Conv2d-29          [32, 512, 14, 14]       2,359,808\n",
            "             ReLU-30          [32, 512, 14, 14]               0\n",
            "        MaxPool2d-31            [32, 512, 7, 7]               0\n",
            "           Linear-32                 [32, 4096]     102,764,544\n",
            "             ReLU-33                 [32, 4096]               0\n",
            "          Dropout-34                 [32, 4096]               0\n",
            "           Linear-35                 [32, 4096]      16,781,312\n",
            "             ReLU-36                 [32, 4096]               0\n",
            "          Dropout-37                 [32, 4096]               0\n",
            "           Linear-38                 [32, 1000]       4,097,000\n",
            "================================================================\n",
            "Total params: 138,357,544\n",
            "Trainable params: 138,357,544\n",
            "Non-trainable params: 0\n",
            "----------------------------------------------------------------\n",
            "Input size (MB): 18.38\n",
            "Forward/backward pass size (MB): 6994.87\n",
            "Params size (MB): 527.79\n",
            "Estimated Total Size (MB): 7541.04\n",
            "----------------------------------------------------------------\n"
          ]
        }
      ],
      "source": [
        "from torchsummary import summary\n",
        "\n",
        "summary(model=model,\n",
        "        input_size=train_dataset[0][0].shape, # (3, 224, 224)\n",
        "        batch_size=batch_size)"
      ]
    },
    {
      "cell_type": "code",
      "execution_count": null,
      "metadata": {
        "id": "PF50T6qLJBwy"
      },
      "outputs": [],
      "source": []
    },
    {
      "cell_type": "code",
      "execution_count": null,
      "metadata": {
        "id": "DXjkOpKkr1-B"
      },
      "outputs": [],
      "source": []
    },
    {
      "cell_type": "code",
      "execution_count": null,
      "metadata": {
        "id": "klns2e05r15k"
      },
      "outputs": [],
      "source": []
    },
    {
      "cell_type": "code",
      "execution_count": null,
      "metadata": {
        "id": "AjOpGZ9-r11a"
      },
      "outputs": [],
      "source": []
    },
    {
      "cell_type": "code",
      "execution_count": null,
      "metadata": {
        "id": "KzjHOP8jr1w-"
      },
      "outputs": [],
      "source": []
    },
    {
      "cell_type": "code",
      "execution_count": null,
      "metadata": {
        "id": "sSVGtOqrr1sK"
      },
      "outputs": [],
      "source": []
    },
    {
      "cell_type": "code",
      "execution_count": null,
      "metadata": {
        "id": "VieFsK7zr1np"
      },
      "outputs": [],
      "source": []
    },
    {
      "cell_type": "code",
      "execution_count": null,
      "metadata": {
        "id": "JUZND3m2r1iz"
      },
      "outputs": [],
      "source": []
    },
    {
      "cell_type": "code",
      "execution_count": null,
      "metadata": {
        "id": "fPHkvgLqr1eH"
      },
      "outputs": [],
      "source": []
    },
    {
      "cell_type": "code",
      "execution_count": null,
      "metadata": {
        "id": "-XxfNdHHr1Ts"
      },
      "outputs": [],
      "source": []
    }
  ],
  "metadata": {
    "accelerator": "GPU",
    "colab": {
      "collapsed_sections": [],
      "provenance": []
    },
    "gpuClass": "standard",
    "kernelspec": {
      "display_name": "Python 3.9.6 64-bit",
      "language": "python",
      "name": "python3"
    },
    "language_info": {
      "codemirror_mode": {
        "name": "ipython",
        "version": 3
      },
      "file_extension": ".py",
      "mimetype": "text/x-python",
      "name": "python",
      "nbconvert_exporter": "python",
      "pygments_lexer": "ipython3",
      "version": "3.9.6"
    },
    "vscode": {
      "interpreter": {
        "hash": "81794d4967e6c3204c66dcd87b604927b115b27c00565d3d43f05ba2f3a2cb0d"
      }
    }
  },
  "nbformat": 4,
  "nbformat_minor": 0
}
